{
 "cells": [
  {
   "cell_type": "markdown",
   "id": "92c383c5",
   "metadata": {},
   "source": [
    "라이브러리"
   ]
  },
  {
   "cell_type": "code",
   "execution_count": 9,
   "id": "2b55ad26",
   "metadata": {},
   "outputs": [],
   "source": [
    "import numpy as np\n",
    "from collections import OrderedDict\n"
   ]
  },
  {
   "cell_type": "markdown",
   "id": "ab13bdcc",
   "metadata": {},
   "source": [
    "1. 신경망 학습 전체 과정 요약\n",
    "    - 신경망의 학습은 4단계로 구성된다.\n",
    "\n",
    "\n"
   ]
  },
  {
   "cell_type": "markdown",
   "id": "1a75758e",
   "metadata": {},
   "source": [
    "| 단계 | 설명 |\n",
    "|:----|:----|\n",
    "| 1단계 | 미니배치: 훈련 데이터 일부를 무작위로 선택 |\n",
    "| 2단계 | 기울기 산출: 미니배치에 대해 손실 함수의 기울기 계산 |\n",
    "| 3단계 | 매개변수 갱신: 기울기 방향으로 가중치/편향 업데이트 |\n",
    "| 4단계 | 반복: 1~3단계를 반복 수행 |\n"
   ]
  },
  {
   "cell_type": "markdown",
   "id": "1b467d61",
   "metadata": {},
   "source": [
    "2. TwoLayerNet 클래스 구현\n",
    "    - 2층 신경망 (입력층 → 은닉층(ReLU) → 출력층(Softmax))을 모듈화하여 구성한다.\n",
    "\n"
   ]
  },
  {
   "cell_type": "markdown",
   "id": "465208ee",
   "metadata": {},
   "source": [
    "- 2.1 클래스 구조"
   ]
  },
  {
   "cell_type": "code",
   "execution_count": 18,
   "id": "18d4a694",
   "metadata": {},
   "outputs": [],
   "source": [
    "class Affine:\n",
    "    def __init__(self, W, b):\n",
    "        self.W = W\n",
    "        self.b = b\n",
    "        self.x = None\n",
    "        self.dW = None\n",
    "        self.db = None\n",
    "\n",
    "    def forward(self, x):\n",
    "        self.x = x\n",
    "        out = np.dot(x, self.W) + self.b\n",
    "        return out\n",
    "\n",
    "    def backward(self, dout):\n",
    "        dx = np.dot(dout, self.W.T)\n",
    "        self.dW = np.dot(self.x.T, dout)\n",
    "        self.db = np.sum(dout, axis=0)\n",
    "        return dx\n",
    "\n",
    "class Relu:\n",
    "    def __init__(self):\n",
    "        self.mask = None\n",
    "\n",
    "    def forward(self, x):\n",
    "        self.mask = (x <= 0)\n",
    "        out = x.copy()\n",
    "        out[self.mask] = 0\n",
    "        return out\n",
    "\n",
    "    def backward(self, dout):\n",
    "        dout[self.mask] = 0\n",
    "        dx = dout\n",
    "        return dx\n",
    "    \n",
    "\n",
    "def softmax(a):\n",
    "    c = np.max(a)\n",
    "    exp_a = np.exp(a - c)\n",
    "    sum_exp_a = np.sum(exp_a)\n",
    "    y = exp_a / sum_exp_a\n",
    "    return y\n",
    "\n",
    "def cross_entropy_error(y, t):\n",
    "    delta = 1e-7\n",
    "    return -np.sum(t * np.log(y + delta))\n",
    "\n",
    "\n",
    "class SoftmaxWithLoss:\n",
    "    def __init__(self):\n",
    "        self.loss = None\n",
    "        self.y = None  # softmax 출력\n",
    "        self.t = None  # 정답 레이블\n",
    "\n",
    "    def forward(self, x, t):\n",
    "        self.t = t\n",
    "        self.y = softmax(x)\n",
    "        self.loss = cross_entropy_error(self.y, self.t)\n",
    "        return self.loss\n",
    "\n",
    "    def backward(self, dout=1):\n",
    "        batch_size = self.t.shape[0]\n",
    "        dx = (self.y - self.t) / batch_size\n",
    "        return dx\n",
    "\n",
    "\n",
    "\n",
    "def numerical_gradient(f, x):\n",
    "    h = 1e-4  # 아주 작은 값\n",
    "    grad = np.zeros_like(x)\n",
    "\n",
    "    it = np.nditer(x, flags=['multi_index'], op_flags=['readwrite'])\n",
    "    while not it.finished:\n",
    "        idx = it.multi_index\n",
    "        tmp_val = x[idx]\n",
    "\n",
    "        x[idx] = float(tmp_val) + h\n",
    "        fxh1 = f(x)  # f(x+h)\n",
    "\n",
    "        x[idx] = tmp_val - h\n",
    "        fxh2 = f(x)  # f(x-h)\n",
    "\n",
    "        grad[idx] = (fxh1 - fxh2) / (2 * h)\n",
    "\n",
    "        x[idx] = tmp_val  # 원래 값 복원\n",
    "        it.iternext()\n",
    "\n",
    "    return grad"
   ]
  },
  {
   "cell_type": "code",
   "execution_count": 19,
   "id": "3526fcc7",
   "metadata": {},
   "outputs": [],
   "source": [
    "class TwoLayerNet:\n",
    "    def __init__(self, input_size, hidden_size, output_size, weight_init_std=0.01):\n",
    "        # 가중치 초기화\n",
    "        self.params = {}\n",
    "        self.params['W1'] = weight_init_std * np.random.randn(input_size, hidden_size)\n",
    "        self.params['b1'] = np.zeros(hidden_size)\n",
    "        self.params['W2'] = weight_init_std * np.random.randn(hidden_size, output_size)\n",
    "        self.params['b2'] = np.zeros(output_size)\n",
    "\n",
    "        # 계층 생성\n",
    "        self.layers = OrderedDict()\n",
    "        self.layers['Affine1'] = Affine(self.params['W1'], self.params['b1'])\n",
    "        self.layers['Relu1'] = Relu()\n",
    "        self.layers['Affine2'] = Affine(self.params['W2'], self.params['b2'])\n",
    "\n",
    "        # 마지막 계층\n",
    "        self.lastLayer = SoftmaxWithLoss()\n",
    "    def predict(self, x):\n",
    "        for layer in self.layers.values():\n",
    "            x = layer.forward(x)\n",
    "        return x\n",
    "\n",
    "    def loss(self, x, t):\n",
    "        y = self.predict(x)\n",
    "        return self.lastLayer.forward(y, t)\n",
    "\n",
    "    def accuracy(self, x, t):\n",
    "        y = self.predict(x)\n",
    "        y = np.argmax(y, axis=1)\n",
    "        if t.ndim != 1:\n",
    "            t = np.argmax(t, axis=1)\n",
    "        accuracy = np.sum(y == t) / float(x.shape[0])\n",
    "        return accuracy\n",
    "\n",
    "    def numerical_gradient(self, x, t):\n",
    "        loss_W = lambda W: self.loss(x, t)\n",
    "        grads = {}\n",
    "        grads['W1'] = numerical_gradient(loss_W, self.params['W1'])\n",
    "        grads['b1'] = numerical_gradient(loss_W, self.params['b1'])\n",
    "        grads['W2'] = numerical_gradient(loss_W, self.params['W2'])\n",
    "        grads['b2'] = numerical_gradient(loss_W, self.params['b2'])\n",
    "        return grads\n",
    "\n",
    "    def gradient(self, x, t):\n",
    "        # 순전파\n",
    "        self.loss(x, t)\n",
    "\n",
    "        # 역전파\n",
    "        dout = 1\n",
    "        dout = self.lastLayer.backward(dout)\n",
    "\n",
    "        layers = list(self.layers.values())\n",
    "        layers.reverse()\n",
    "        for layer in layers:\n",
    "            dout = layer.backward(dout)\n",
    "\n",
    "        # 결과 저장\n",
    "        grads = {}\n",
    "        grads['W1'] = self.layers['Affine1'].dW\n",
    "        grads['b1'] = self.layers['Affine1'].db\n",
    "        grads['W2'] = self.layers['Affine2'].dW\n",
    "        grads['b2'] = self.layers['Affine2'].db\n",
    "\n",
    "        return grads"
   ]
  },
  {
   "cell_type": "markdown",
   "id": "cbacc4ec",
   "metadata": {},
   "source": [
    "- 2.3 메서드 설명\n"
   ]
  },
  {
   "cell_type": "markdown",
   "id": "bbf46a21",
   "metadata": {},
   "source": [
    "| 메서드 | 설명 |\n",
    "|:------|:-----|\n",
    "| predict(x) | 입력 x에 대해 순전파 수행 |\n",
    "| loss(x, t) | 손실 함수 값을 계산 |\n",
    "| accuracy(x, t) | 정확도 계산 |\n",
    "| numerical_gradient(x, t) | 수치 미분으로 기울기 계산 |\n",
    "| gradient(x, t) | 오차역전파법으로 기울기 계산 |\n"
   ]
  },
  {
   "cell_type": "markdown",
   "id": "86d5e064",
   "metadata": {},
   "source": [
    "3. 오차역전파법으로 구한 기울기 검증하기 (Gradient Check)\n",
    "    - 오차역전파법으로 계산한 기울기와 수치 미분으로 계산한 기울기를 비교하여 정확성을 검증한다.\n"
   ]
  },
  {
   "cell_type": "markdown",
   "id": "7579f629",
   "metadata": {},
   "source": [
    "- 3.1 테스트 코드"
   ]
  },
  {
   "cell_type": "code",
   "execution_count": 20,
   "id": "4a45d45a",
   "metadata": {},
   "outputs": [
    {
     "name": "stdout",
     "output_type": "stream",
     "text": [
      "W1:0.0008926971166034764\n",
      "b1:0.004650029974384556\n",
      "W2:0.012073497734149861\n",
      "b2:0.3070636193375435\n"
     ]
    }
   ],
   "source": [
    "\n",
    "\n",
    "if __name__ == '__main__':\n",
    "    from tensorflow.keras.datasets import mnist\n",
    "\n",
    "    # 데이터 읽기\n",
    "    (x_train, t_train), (x_test, t_test) = mnist.load_data()\n",
    "    \n",
    "    # flatten (28x28 -> 784) & normalize (0~255 -> 0~1)\n",
    "    x_train = x_train.reshape(x_train.shape[0], -1).astype(np.float32) / 255.0\n",
    "    x_test = x_test.reshape(x_test.shape[0], -1).astype(np.float32) / 255.0\n",
    "\n",
    "    # one-hot encoding\n",
    "    def to_one_hot(t, num_classes=10):\n",
    "        one_hot = np.zeros((t.size, num_classes))\n",
    "        one_hot[np.arange(t.size), t] = 1\n",
    "        return one_hot\n",
    "\n",
    "    t_train = to_one_hot(t_train)\n",
    "    t_test = to_one_hot(t_test)\n",
    "\n",
    "    # 네트워크 생성\n",
    "    network = TwoLayerNet(input_size=784, hidden_size=50, output_size=10)\n",
    "\n",
    "    x_batch = x_train[:3]\n",
    "    t_batch = t_train[:3]\n",
    "\n",
    "    grad_numerical = network.numerical_gradient(x_batch, t_batch)\n",
    "    grad_backprop = network.gradient(x_batch, t_batch)\n",
    "\n",
    "    # 두 방법으로 구한 기울기 비교\n",
    "    for key in grad_numerical.keys():\n",
    "        diff = np.average(np.abs(grad_backprop[key] - grad_numerical[key]))\n",
    "        print(key + \":\" + str(diff))\n"
   ]
  },
  {
   "cell_type": "markdown",
   "id": "510f6128",
   "metadata": {},
   "source": [
    "| 항목 | 설명 |\n",
    "|:----|:-----|\n",
    "| TwoLayerNet | 2층 신경망 클래스로, 레이어 순서대로 forward/backward 처리 |\n",
    "| 오차역전파법 | 기울기를 빠르고 정확하게 계산하는 방법 |\n",
    "| 수치 미분 | 검증용으로만 사용 (느림) |\n",
    "| Gradient Check | 오차역전파법과 수치 미분 결과를 비교해 구현 정확성 검증 |\n"
   ]
  },
  {
   "cell_type": "code",
   "execution_count": null,
   "id": "88c27ab1",
   "metadata": {},
   "outputs": [],
   "source": []
  }
 ],
 "metadata": {
  "kernelspec": {
   "display_name": "myenv",
   "language": "python",
   "name": "python3"
  },
  "language_info": {
   "codemirror_mode": {
    "name": "ipython",
    "version": 3
   },
   "file_extension": ".py",
   "mimetype": "text/x-python",
   "name": "python",
   "nbconvert_exporter": "python",
   "pygments_lexer": "ipython3",
   "version": "3.11.0"
  }
 },
 "nbformat": 4,
 "nbformat_minor": 5
}
