{
 "cells": [
  {
   "cell_type": "markdown",
   "id": "98d75f2b",
   "metadata": {},
   "source": [
    "라이브러리"
   ]
  },
  {
   "cell_type": "code",
   "execution_count": 10,
   "id": "6c5c763f",
   "metadata": {},
   "outputs": [],
   "source": [
    "from tensorflow.keras.datasets import mnist\n",
    "import numpy as np"
   ]
  },
  {
   "cell_type": "markdown",
   "id": "0bca3598",
   "metadata": {},
   "source": [
    "1. 미니배치 학습 (Mini-Batch Learning)\n",
    "    - 전체 데이터를 한 번에 처리하는 대신, 일부 데이터만 골라서 학습하는 방법."
   ]
  },
  {
   "cell_type": "markdown",
   "id": "73c24c50",
   "metadata": {},
   "source": [
    "- 1.1 전체 오차 함수 (Loss)\n",
    "    - 훈련 데이터가 $N$개일 때, 전체 오차 함수는 다음과 같다.\n",
    "        - 수식 : $E = -\\frac{1}{N} \\sum_{n=1}^{N} \\sum_{k=1}^{C} t_{nk} \\log(y_{nk})$\n",
    "            - $t_{nk}$ : 정답 레이블 (one-hot encoding)4\n",
    "            - $y_nk$ : 신경망 출력 (softmax 확률)\n",
    "            - $N$ : 데이터 개수\n"
   ]
  },
  {
   "cell_type": "markdown",
   "id": "05119483",
   "metadata": {},
   "source": [
    "- 1.2 문제점\n",
    "    - 전체 데이터로 손실을 계산하면 시간이 너무 오래 걸린다.\n",
    "    - 따라서 일부 샘플만 뽑아 손실을 근사 계산하는 미니배치 방법을 사용한다.\n",
    "\n"
   ]
  },
  {
   "cell_type": "markdown",
   "id": "fba70c1b",
   "metadata": {},
   "source": [
    "2. MNIST 데이터셋 불러오기"
   ]
  },
  {
   "cell_type": "code",
   "execution_count": 8,
   "id": "1dd66916",
   "metadata": {},
   "outputs": [
    {
     "name": "stdout",
     "output_type": "stream",
     "text": [
      "(60000, 28, 28)\n",
      "(60000,)\n",
      "(10000, 28, 28)\n",
      "(10000,)\n"
     ]
    }
   ],
   "source": [
    "# 데이터 다운로드 및 로드\n",
    "(x_train, t_train), (x_test, t_test) = mnist.load_data()\n",
    "\n",
    "# 데이터 형태 출력\n",
    "print(x_train.shape)  # (60000, 28, 28)\n",
    "print(t_train.shape)  # (60000,)\n",
    "print(x_test.shape)   # (10000, 28, 28)\n",
    "print(t_test.shape)   # (10000,)\n"
   ]
  },
  {
   "cell_type": "markdown",
   "id": "d9a769e8",
   "metadata": {},
   "source": [
    "3. 미니배치 만들기"
   ]
  },
  {
   "cell_type": "code",
   "execution_count": 9,
   "id": "bb97d925",
   "metadata": {},
   "outputs": [],
   "source": [
    "train_size = x_train.shape[0]\n",
    "batch_size = 10  # 미니배치 크기\n",
    "\n",
    "# 무작위로 10개 샘플을 선택\n",
    "batch_mask = np.random.choice(train_size, batch_size)\n",
    "x_batch = x_train[batch_mask]\n",
    "t_batch = t_train[batch_mask]\n"
   ]
  },
  {
   "cell_type": "markdown",
   "id": "df633ec9",
   "metadata": {},
   "source": [
    "4. 교차 엔트로피 오차 (Cross Entropy Error)"
   ]
  },
  {
   "cell_type": "markdown",
   "id": "6150a4f5",
   "metadata": {},
   "source": [
    "- 4.1 교차 엔트로피 함수 구현"
   ]
  },
  {
   "cell_type": "code",
   "execution_count": 11,
   "id": "29c9f220",
   "metadata": {},
   "outputs": [],
   "source": [
    "def cross_entropy_error(y, t):\n",
    "    if y.ndim == 1:\n",
    "        t = t.reshape(1, t.size)\n",
    "        y = y.reshape(1, y.size)\n",
    "\n",
    "    batch_size = y.shape[0]\n",
    "    return -np.sum(np.log(y[np.arange(batch_size), t])) / batch_size"
   ]
  },
  {
   "cell_type": "markdown",
   "id": "f8eb9477",
   "metadata": {},
   "source": [
    "- 4.2 설명\n",
    "    - y: 신경망 출력 결과 (softmax 확률)\n",
    "    - t: 정답 레이블 (0~9 숫자)\n",
    "    - y[np.arange(batch_size), t]: 정답 레이블에 해당하는 확률만 선택\n",
    "    - log 값을 취하고 평균을 내서 최종 손실값 계산\n",
    "\n",
    "- 4.3 주의\n",
    "    - 입력 y가 1차원인 경우, (ex: 하나의 데이터만 들어온 경우) 2차원으로 변환해줘야 한다.\n",
    "\n"
   ]
  },
  {
   "cell_type": "markdown",
   "id": "268ee9dd",
   "metadata": {},
   "source": [
    "5. 손실 함수를 설정하는 이유\n",
    "    - 신경망 학습 시 \"정확도(Accuracy)\"를 바로 최적화 대상으로 삼으면 안 된다.\n",
    "        - 이유\n",
    "            - 정확도는 이산적(discrete)으로 변한다.        \n",
    "            - 매개변수를 아주 조금씩 바꿔도 정확도가 거의 변하지 않아서, 미분이 대부분 0이 된다.\n",
    "            - 따라서 학습이 전혀 일어나지 않게 된다."
   ]
  }
 ],
 "metadata": {
  "kernelspec": {
   "display_name": "myenv",
   "language": "python",
   "name": "python3"
  },
  "language_info": {
   "codemirror_mode": {
    "name": "ipython",
    "version": 3
   },
   "file_extension": ".py",
   "mimetype": "text/x-python",
   "name": "python",
   "nbconvert_exporter": "python",
   "pygments_lexer": "ipython3",
   "version": "3.11.0"
  }
 },
 "nbformat": 4,
 "nbformat_minor": 5
}
