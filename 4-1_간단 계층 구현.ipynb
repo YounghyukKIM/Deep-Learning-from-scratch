{
 "cells": [
  {
   "cell_type": "markdown",
   "id": "95926219",
   "metadata": {},
   "source": [
    "1. 곱셈 계층 (Multiplication Layer)"
   ]
  },
  {
   "cell_type": "markdown",
   "id": "c3366b17",
   "metadata": {},
   "source": [
    "- 1.1 MulLayer 클래스 구현\n",
    "    - 순전파: 입력 두 값을 곲한다.\n",
    "    - 역전파: 각각의 입력에 대해 미분을 계산해 전파한다."
   ]
  },
  {
   "cell_type": "code",
   "execution_count": 1,
   "id": "7779b746",
   "metadata": {},
   "outputs": [],
   "source": [
    "class MulLayer:\n",
    "    def __init__(self):\n",
    "        self.x = None\n",
    "        self.y = None\n",
    "\n",
    "    def forward(self, x, y):\n",
    "        self.x = x\n",
    "        self.y = y\n",
    "        out = x * y\n",
    "        return out\n",
    "\n",
    "    def backward(self, dout):\n",
    "        dx = dout * self.y  # 뒤쪽으로 전파하는 미분값\n",
    "        dy = dout * self.x  # 뒤쪽으로 전파하는 미분값\n",
    "        return dx, dy\n"
   ]
  },
  {
   "cell_type": "markdown",
   "id": "d9d9c8ef",
   "metadata": {},
   "source": [
    "2. 덧셈 계층 (Addition Layer)"
   ]
  },
  {
   "cell_type": "markdown",
   "id": "6635964f",
   "metadata": {},
   "source": [
    "- 2.1 AddLayer 클래스 구현\n",
    "    - 순전파: 입력 두 값을 더한다.\n",
    "    - 역전파: 입력 각각으로 미분값을 그대로 전파한다."
   ]
  },
  {
   "cell_type": "code",
   "execution_count": 2,
   "id": "4739a394",
   "metadata": {},
   "outputs": [],
   "source": [
    "class AddLayer:\n",
    "    def __init__(self):\n",
    "        pass  # 덧셈은 특별히 저장할 값이 없음\n",
    "\n",
    "    def forward(self, x, y):\n",
    "        out = x + y\n",
    "        return out\n",
    "\n",
    "    def backward(self, dout):\n",
    "        dx = dout * 1  # 미분값 그대로 전파\n",
    "        dy = dout * 1\n",
    "        return dx, dy\n",
    "\n"
   ]
  },
  {
   "cell_type": "markdown",
   "id": "198be263",
   "metadata": {},
   "source": [
    "3. 예시 문제 풀이\n"
   ]
  },
  {
   "cell_type": "markdown",
   "id": "a824deb6",
   "metadata": {},
   "source": [
    "- 3.1 문제 1: 사과만 구매\n",
    "    - 문제\n",
    "        - 사과 가격: 100원\n",
    "        - 사과 개수: 2개\n",
    "        - 소비세: 10%\n",
    "    - 수식\n",
    "        - $100×2×1.1=220$"
   ]
  },
  {
   "cell_type": "markdown",
   "id": "37342768",
   "metadata": {},
   "source": [
    "- 3.1.1 순전파"
   ]
  },
  {
   "cell_type": "code",
   "execution_count": 4,
   "id": "b3c234be",
   "metadata": {},
   "outputs": [
    {
     "name": "stdout",
     "output_type": "stream",
     "text": [
      "220.00000000000003\n"
     ]
    }
   ],
   "source": [
    "apple = 100\n",
    "apple_num = 2\n",
    "tax = 1.1\n",
    "\n",
    "mul_apple_layer = MulLayer()\n",
    "mul_tax_layer = MulLayer()\n",
    "\n",
    "apple_price = mul_apple_layer.forward(apple, apple_num)\n",
    "price = mul_tax_layer.forward(apple_price, tax)\n",
    "\n",
    "print(price)  # 220.0\n"
   ]
  },
  {
   "cell_type": "markdown",
   "id": "6102c358",
   "metadata": {},
   "source": [
    "- 3.1.2 역전파"
   ]
  },
  {
   "cell_type": "code",
   "execution_count": 5,
   "id": "bf5da3b5",
   "metadata": {},
   "outputs": [
    {
     "name": "stdout",
     "output_type": "stream",
     "text": [
      "2.2 110.00000000000001 200\n"
     ]
    }
   ],
   "source": [
    "dprice = 1  # 최종 출력에 대한 미분은 항상 1부터 시작\n",
    "dapple_price, dtax = mul_tax_layer.backward(dprice)\n",
    "dapple, dapple_num = mul_apple_layer.backward(dapple_price)\n",
    "\n",
    "print(dapple, dapple_num, dtax)  \n",
    "# 출력: 2.2 110.0 200\n"
   ]
  },
  {
   "cell_type": "markdown",
   "id": "7d407e1a",
   "metadata": {},
   "source": [
    "    - 사과 1개 가격에 대한 기울기 :\t2.2\n",
    "    - 사과 개수에 대한 기울기 : 110.0\n",
    "    - 세금에 대한 기울기 : 200"
   ]
  },
  {
   "cell_type": "markdown",
   "id": "fae918ee",
   "metadata": {},
   "source": [
    "- 3.2 문제 2: 사과 + 귤 구매\n",
    "    - 문제\n",
    "        - 사과 가격: 100원 × 2개\n",
    "        - 귤 가격: 150원 × 3개\n",
    "        - 소비세: 10%\n",
    "    - 수식\n",
    "        - $((100×2)+(150×3))×1.1=715$"
   ]
  },
  {
   "cell_type": "markdown",
   "id": "f70594e6",
   "metadata": {},
   "source": [
    "- 3.2.1 순전파"
   ]
  },
  {
   "cell_type": "code",
   "execution_count": 6,
   "id": "f403c149",
   "metadata": {},
   "outputs": [
    {
     "name": "stdout",
     "output_type": "stream",
     "text": [
      "715.0000000000001\n"
     ]
    }
   ],
   "source": [
    "orange = 150\n",
    "orange_num = 3\n",
    "\n",
    "mul_apple_layer = MulLayer()\n",
    "mul_orange_layer = MulLayer()\n",
    "add_apple_orange_layer = AddLayer()\n",
    "mul_tax_layer = MulLayer()\n",
    "\n",
    "apple_price = mul_apple_layer.forward(apple, apple_num)\n",
    "orange_price = mul_orange_layer.forward(orange, orange_num)\n",
    "all_price = add_apple_orange_layer.forward(apple_price, orange_price)\n",
    "price = mul_tax_layer.forward(all_price, tax)\n",
    "\n",
    "print(price)  # 715.0\n"
   ]
  },
  {
   "cell_type": "markdown",
   "id": "e40712a3",
   "metadata": {},
   "source": [
    "- 3.2.2 역전파"
   ]
  },
  {
   "cell_type": "code",
   "execution_count": 7,
   "id": "cd6a7696",
   "metadata": {},
   "outputs": [
    {
     "name": "stdout",
     "output_type": "stream",
     "text": [
      "110.00000000000001 2.2 3.3000000000000003 165.0 650\n"
     ]
    }
   ],
   "source": [
    "dprice = 1\n",
    "dall_price, dtax = mul_tax_layer.backward(dprice)\n",
    "dapple_price, dorange_price = add_apple_orange_layer.backward(dall_price)\n",
    "dorange, dorange_num = mul_orange_layer.backward(dorange_price)\n",
    "dapple, dapple_num = mul_apple_layer.backward(dapple_price)\n",
    "\n",
    "print(dapple_num, dapple, dorange, dorange_num, dtax)\n",
    "# 출력: 110.0 2.2 3.3 165.0 650\n"
   ]
  },
  {
   "cell_type": "markdown",
   "id": "18ab7eb9",
   "metadata": {},
   "source": [
    "    - 사과 개수에 대한 기울기 : 110.0\n",
    "    - 사과 가격에 대한 기울기 : 2.2\n",
    "    - 귤 가격에 대한 기울기 : 3.3\n",
    "    - 귤 개수에 대한 기울기 : 165.0\n",
    "    - 세금에 대한 기울기 : 650"
   ]
  },
  {
   "cell_type": "code",
   "execution_count": null,
   "id": "24754bc8",
   "metadata": {},
   "outputs": [],
   "source": []
  }
 ],
 "metadata": {
  "kernelspec": {
   "display_name": "myenv",
   "language": "python",
   "name": "python3"
  },
  "language_info": {
   "codemirror_mode": {
    "name": "ipython",
    "version": 3
   },
   "file_extension": ".py",
   "mimetype": "text/x-python",
   "name": "python",
   "nbconvert_exporter": "python",
   "pygments_lexer": "ipython3",
   "version": "3.11.0"
  }
 },
 "nbformat": 4,
 "nbformat_minor": 5
}
