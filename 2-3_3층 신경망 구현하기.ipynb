{
 "cells": [
  {
   "cell_type": "markdown",
   "id": "d6b64a40",
   "metadata": {},
   "source": [
    "라이브러리"
   ]
  },
  {
   "cell_type": "code",
   "execution_count": 2,
   "id": "fc1ba474",
   "metadata": {},
   "outputs": [],
   "source": [
    "import numpy as np"
   ]
  },
  {
   "cell_type": "markdown",
   "id": "3e3821b9",
   "metadata": {},
   "source": [
    "1. 네트워크 구조\n",
    "    - 입력층(0층): 뉴런 2개\n",
    "    - 첫 번째 은닉층(1층): 뉴런 3개\n",
    "    - 두 번째 은닉층(2층): 뉴런 2개\n",
    "    - 출력층(3층): 뉴런 2개\n",
    "\n",
    "- 1, 2층의 활성화 함수: 시그모이드(sigmoid) 함수\n",
    "- 3층의 활성화 함수: 항등함수(identity function)"
   ]
  },
  {
   "cell_type": "markdown",
   "id": "c0badc0c",
   "metadata": {},
   "source": [
    "2. 활성화 함수 정의"
   ]
  },
  {
   "cell_type": "markdown",
   "id": "ebd7c051",
   "metadata": {},
   "source": [
    "- 2.1 시그모이드 함수"
   ]
  },
  {
   "cell_type": "code",
   "execution_count": 1,
   "id": "680a0be5",
   "metadata": {},
   "outputs": [],
   "source": [
    "def sigmoid(x):\n",
    "    return 1 / (1 + np.exp(-x))"
   ]
  },
  {
   "cell_type": "markdown",
   "id": "139359c8",
   "metadata": {},
   "source": [
    "    - 시그모이드 함수 : 입력을 0과 1 사이로 부드럽게 변환해준다.\n",
    "\n"
   ]
  },
  {
   "cell_type": "markdown",
   "id": "21d4b406",
   "metadata": {},
   "source": [
    "- 2.2 항등 함수"
   ]
  },
  {
   "cell_type": "code",
   "execution_count": 4,
   "id": "8c259896",
   "metadata": {},
   "outputs": [],
   "source": [
    "def identity_function(x):\n",
    "    return x"
   ]
  },
  {
   "cell_type": "markdown",
   "id": "ef7d4a8f",
   "metadata": {},
   "source": [
    "    - 입력을 그대로 출력하는 함수이다.\n",
    "    - 주로 회귀(regression) 문제에서 출력층 활성화 함수로 사용한다."
   ]
  },
  {
   "cell_type": "markdown",
   "id": "2ac84340",
   "metadata": {},
   "source": [
    "3. 네트워크 파라미터 초기화"
   ]
  },
  {
   "cell_type": "code",
   "execution_count": null,
   "id": "02c0a651",
   "metadata": {},
   "outputs": [],
   "source": [
    "def init_network():\n",
    "    network = {}\n",
    "    network['W1'] = np.array([[0.1, 0.3, 0.5],\n",
    "                              [0.2, 0.4, 0.6]])\n",
    "    network['b1'] = np.array([0.1, 0.2, 0.3])\n",
    "    \n",
    "    network['W2'] = np.array([[0.1, 0.4],\n",
    "                              [0.2, 0.5],\n",
    "                              [0.3, 0.6]])\n",
    "    network['b2'] = np.array([0.1, 0.2])\n",
    "    \n",
    "    network['W3'] = np.array([[0.1, 0.3],\n",
    "                              [0.2, 0.4]])\n",
    "    network['b3'] = np.array([0.1, 0.2])\n",
    "    \n",
    "    return network"
   ]
  },
  {
   "cell_type": "markdown",
   "id": "690c3b1b",
   "metadata": {},
   "source": [
    "    - W1, W2, W3: 층별 가중치(weight)\n",
    "    - b1, b2, b3: 층별 편향(bias)"
   ]
  },
  {
   "cell_type": "markdown",
   "id": "728dc043",
   "metadata": {},
   "source": [
    "4. 순전파(forward propagation) 구현"
   ]
  },
  {
   "cell_type": "code",
   "execution_count": 6,
   "id": "7a0ba880",
   "metadata": {},
   "outputs": [],
   "source": [
    "def forward(network, x):\n",
    "    W1, W2, W3 = network['W1'], network['W2'], network['W3']\n",
    "    b1, b2, b3 = network['b1'], network['b2'], network['b3']\n",
    "\n",
    "    a1 = np.dot(x, W1) + b1\n",
    "    z1 = sigmoid(a1)\n",
    "    \n",
    "    a2 = np.dot(z1, W2) + b2\n",
    "    z2 = sigmoid(a2)\n",
    "    \n",
    "    a3 = np.dot(z2, W3) + b3\n",
    "    y = identity_function(a3)\n",
    "\n",
    "    return y\n"
   ]
  },
  {
   "cell_type": "markdown",
   "id": "9abe5c62",
   "metadata": {},
   "source": [
    "    - a1, a2, a3: 각 층에서 가중치 합 + 편향\n",
    "    - z1, z2: 은닉층 활성화 결과\n",
    "    - y: 최종 출력 결과"
   ]
  },
  {
   "cell_type": "markdown",
   "id": "0738fe33",
   "metadata": {},
   "source": [
    "5. 전체 실행"
   ]
  },
  {
   "cell_type": "code",
   "execution_count": 7,
   "id": "564e96fc",
   "metadata": {},
   "outputs": [
    {
     "name": "stdout",
     "output_type": "stream",
     "text": [
      "[0.31682708 0.69627909]\n"
     ]
    }
   ],
   "source": [
    "network = init_network()\n",
    "x = np.array([1.0, 0.5])\n",
    "\n",
    "y = forward(network, x)\n",
    "print(y)  # [0.31682708 0.69627909]\n"
   ]
  }
 ],
 "metadata": {
  "kernelspec": {
   "display_name": "myenv",
   "language": "python",
   "name": "python3"
  },
  "language_info": {
   "codemirror_mode": {
    "name": "ipython",
    "version": 3
   },
   "file_extension": ".py",
   "mimetype": "text/x-python",
   "name": "python",
   "nbconvert_exporter": "python",
   "pygments_lexer": "ipython3",
   "version": "3.11.0"
  }
 },
 "nbformat": 4,
 "nbformat_minor": 5
}
