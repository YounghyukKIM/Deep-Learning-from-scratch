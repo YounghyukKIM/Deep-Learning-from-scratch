{
 "cells": [
  {
   "cell_type": "markdown",
   "id": "d9bb3937",
   "metadata": {},
   "source": [
    "라이브러리"
   ]
  },
  {
   "cell_type": "code",
   "execution_count": null,
   "id": "bea85bf6",
   "metadata": {},
   "outputs": [],
   "source": [
    "import numpy as np"
   ]
  },
  {
   "cell_type": "markdown",
   "id": "ca9a3e71",
   "metadata": {},
   "source": [
    "퍼셉트론으로 논리 게이트 구현\n",
    "\n",
    "- 퍼셉트론 기본 개념\n",
    "    - 퍼셉트론은 입력 신호에 가중치를 곱한 총합이 임계값(Threshold)을 넘으면 1을 출력하고, 그렇지 않으면 0을 출력하는 알고리즘이다."
   ]
  },
  {
   "cell_type": "markdown",
   "id": "a9d7ce3e",
   "metadata": {},
   "source": [
    "2. 간단한 AND 게이트 구현"
   ]
  },
  {
   "cell_type": "code",
   "execution_count": null,
   "id": "72c19964",
   "metadata": {},
   "outputs": [],
   "source": [
    "def AND(x1, x2):\n",
    "    w1, w2, theta = 0.5, 0.5, 0.7\n",
    "    tmp = x1 * w1 + x2 * w2\n",
    "    if tmp <= theta:\n",
    "        return 0\n",
    "    else:\n",
    "        return 1\n"
   ]
  },
  {
   "cell_type": "markdown",
   "id": "871ace2b",
   "metadata": {},
   "source": [
    "    - 입력에 가중치를 곱하고, 그 합이 임계값보다 크면 1을 출력한다."
   ]
  },
  {
   "cell_type": "markdown",
   "id": "16adae94",
   "metadata": {},
   "source": [
    "3. 가중치와 편향 도입"
   ]
  },
  {
   "cell_type": "code",
   "execution_count": null,
   "id": "9c905cc8",
   "metadata": {},
   "outputs": [
    {
     "name": "stdout",
     "output_type": "stream",
     "text": [
      "[0.  0.5]\n",
      "0.5\n",
      "-0.19999999999999996\n"
     ]
    }
   ],
   "source": [
    "# 입력값\n",
    "x = np.array([0, 1])\n",
    "# 가중치\n",
    "w = np.array([0.5, 0.5])\n",
    "# 편향\n",
    "b = -0.7\n",
    "\n",
    "print(w * x)                # [0.  0.5]\n",
    "print(np.sum(w * x))         # 0.5\n",
    "print(np.sum(w * x) + b)     # -0.2\n"
   ]
  },
  {
   "cell_type": "markdown",
   "id": "31e84f31",
   "metadata": {},
   "source": [
    "    - 가중치(w)는 입력의 중요도를 조정하고, 편향(b)은 전체 계산 결과를 조정하는 역할을 한다."
   ]
  },
  {
   "cell_type": "markdown",
   "id": "64b0ddd2",
   "metadata": {},
   "source": [
    "4. 게이트 함수 구현 (AND, NAND, OR)"
   ]
  },
  {
   "cell_type": "code",
   "execution_count": null,
   "id": "2b96f8e8",
   "metadata": {},
   "outputs": [],
   "source": [
    "def AND(x1, x2):\n",
    "    x = np.array([x1, x2])\n",
    "    w = np.array([0.5, 0.5])\n",
    "    b = -0.7\n",
    "    tmp = np.sum(w * x) + b\n",
    "    return int(tmp > 0)\n",
    "\n",
    "def NAND(x1, x2):\n",
    "    x = np.array([x1, x2])\n",
    "    w = np.array([-0.5, -0.5])\n",
    "    b = 0.7\n",
    "    tmp = np.sum(w * x) + b\n",
    "    return int(tmp > 0)\n",
    "\n",
    "def OR(x1, x2):\n",
    "    x = np.array([x1, x2])\n",
    "    w = np.array([0.5, 0.5])\n",
    "    b = -0.2\n",
    "    tmp = np.sum(w * x) + b\n",
    "    return int(tmp > 0)\n"
   ]
  },
  {
   "cell_type": "markdown",
   "id": "51f98939",
   "metadata": {},
   "source": [
    "    - NAND와 OR은 AND와 같은 구조지만, 가중치(w)와 편향(b) 값만 다르다.\n",
    "\n"
   ]
  },
  {
   "cell_type": "markdown",
   "id": "fb060114",
   "metadata": {},
   "source": [
    "5. 게이트 테스트"
   ]
  },
  {
   "cell_type": "code",
   "execution_count": null,
   "id": "c2a617ee",
   "metadata": {},
   "outputs": [
    {
     "name": "stdout",
     "output_type": "stream",
     "text": [
      "AND\n",
      "AND(0,0) = 0\n",
      "AND(0,1) = 0\n",
      "AND(1,0) = 0\n",
      "AND(1,1) = 1\n",
      "NAND\n",
      "NAND(0,0) = 1\n",
      "NAND(0,1) = 1\n",
      "NAND(1,0) = 1\n",
      "NAND(1,1) = 0\n",
      "OR\n",
      "OR(0,0) = 0\n",
      "OR(0,1) = 1\n",
      "OR(1,0) = 1\n",
      "OR(1,1) = 1\n"
     ]
    }
   ],
   "source": [
    "print(\"AND\")\n",
    "for x1, x2 in [(0,0), (0,1), (1,0), (1,1)]:\n",
    "    print(f\"AND({x1},{x2}) = {AND(x1,x2)}\")\n",
    "\n",
    "print(\"NAND\")\n",
    "for x1, x2 in [(0,0), (0,1), (1,0), (1,1)]:\n",
    "    print(f\"NAND({x1},{x2}) = {NAND(x1,x2)}\")\n",
    "\n",
    "print(\"OR\")\n",
    "for x1, x2 in [(0,0), (0,1), (1,0), (1,1)]:\n",
    "    print(f\"OR({x1},{x2}) = {OR(x1,x2)}\")\n"
   ]
  },
  {
   "cell_type": "markdown",
   "id": "a2ed4b8e",
   "metadata": {},
   "source": [
    "6. XOR 게이트\n",
    "    - 6.1 XOR이 어려운 이유\n",
    "        - XOR 게이트는 단층 퍼셉트론으로는 구현할 수 없다.\n",
    "        - 이유: XOR은 비선형 분리가 필요하기 때문이다."
   ]
  },
  {
   "cell_type": "markdown",
   "id": "95143ebb",
   "metadata": {},
   "source": [
    "6.2 다층 퍼셉트론으로 XOR 구현\n",
    "-  기존 게이트(AND, NAND, OR)를 조합하여 XOR을 만들 수 있다."
   ]
  },
  {
   "cell_type": "code",
   "execution_count": null,
   "id": "bb733499",
   "metadata": {},
   "outputs": [],
   "source": [
    "def XOR(x1, x2):\n",
    "    s1 = NAND(x1, x2)\n",
    "    s2 = OR(x1, x2)\n",
    "    y = AND(s1, s2)\n",
    "    return y"
   ]
  },
  {
   "cell_type": "markdown",
   "id": "a2a5d215",
   "metadata": {},
   "source": [
    "6.3 XOR 테스트"
   ]
  },
  {
   "cell_type": "code",
   "execution_count": 9,
   "id": "f1514e1d",
   "metadata": {},
   "outputs": [
    {
     "name": "stdout",
     "output_type": "stream",
     "text": [
      "XOR\n",
      "XOR(0,0) = 0\n",
      "XOR(0,1) = 1\n",
      "XOR(1,0) = 1\n",
      "XOR(1,1) = 0\n"
     ]
    }
   ],
   "source": [
    "print(\"XOR\")\n",
    "for x1, x2 in [(0,0), (0,1), (1,0), (1,1)]:\n",
    "    print(f\"XOR({x1},{x2}) = {XOR(x1,x2)}\")"
   ]
  },
  {
   "cell_type": "markdown",
   "id": "cf0ff3ea",
   "metadata": {},
   "source": [
    "7. 요약\n",
    "- 퍼셉트론은 입력에 가중치를 곱하고, 편향을 더한 뒤, 임계값을 넘는지를 판단한다.\n",
    "- AND, NAND, OR는 단층 퍼셉트론으로 구현할 수 있다.\n",
    "- XOR은 단층으로는 불가능하며, 다층 퍼셉트론 구조가 필요하다.\n",
    "- 다층 퍼셉트론과 시그모이드 같은 활성화 함수를 이용하면, 어떤 함수든 근사할 수 있다는 것이 이론적으로 증명되어 있다."
   ]
  }
 ],
 "metadata": {
  "kernelspec": {
   "display_name": "myenv",
   "language": "python",
   "name": "python3"
  },
  "language_info": {
   "codemirror_mode": {
    "name": "ipython",
    "version": 3
   },
   "file_extension": ".py",
   "mimetype": "text/x-python",
   "name": "python",
   "nbconvert_exporter": "python",
   "pygments_lexer": "ipython3",
   "version": "3.11.0"
  }
 },
 "nbformat": 4,
 "nbformat_minor": 5
}
