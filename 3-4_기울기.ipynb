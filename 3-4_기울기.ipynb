{
 "cells": [
  {
   "cell_type": "markdown",
   "id": "61eb92ac",
   "metadata": {},
   "source": [
    "라이브러리"
   ]
  },
  {
   "cell_type": "code",
   "execution_count": 2,
   "id": "79f1d7e4",
   "metadata": {},
   "outputs": [],
   "source": [
    "import numpy as np\n",
    "import matplotlib.pylab as plt"
   ]
  },
  {
   "cell_type": "markdown",
   "id": "5020e70a",
   "metadata": {},
   "source": [
    "1. 기울기 (Gradient)\n",
    "    - 여러 변수의 편미분을 벡터로 모은 것을 기울기(Gradient) 라고 한다.\n",
    "        - 기울기는 함수의 가장 가파르게 증가하는 방향을 가리킨다.\n",
    "        - 기울기의 반대 방향으로 이동하면 함수 값을 줄일 수 있다. (최솟값 찾기)"
   ]
  },
  {
   "cell_type": "markdown",
   "id": "410df08b",
   "metadata": {},
   "source": [
    "- 1.1 수치적으로 기울기 구하기"
   ]
  },
  {
   "cell_type": "code",
   "execution_count": 3,
   "id": "37d5e1d4",
   "metadata": {},
   "outputs": [],
   "source": [
    "def numerical_gradient(f, x):\n",
    "    h = 1e-4\n",
    "    grad = np.zeros_like(x)\n",
    "\n",
    "    for idx in range(x.size):\n",
    "        tmp_val = x[idx]\n",
    "\n",
    "        x[idx] = tmp_val + h\n",
    "        fxh1 = f(x)\n",
    "\n",
    "        x[idx] = tmp_val - h\n",
    "        fxh2 = f(x)\n",
    "\n",
    "        grad[idx] = (fxh1 - fxh2) / (2 * h)\n",
    "        x[idx] = tmp_val  # 값 복원\n",
    "\n",
    "    return grad\n"
   ]
  },
  {
   "cell_type": "markdown",
   "id": "091d7803",
   "metadata": {},
   "source": [
    "- 1.2 함수 예시"
   ]
  },
  {
   "cell_type": "code",
   "execution_count": 4,
   "id": "95b32233",
   "metadata": {},
   "outputs": [],
   "source": [
    "def function_2(x):\n",
    "    return x[0]**2 + x[1]**2\n"
   ]
  },
  {
   "cell_type": "markdown",
   "id": "ad6f1ee7",
   "metadata": {},
   "source": [
    "- 1.3 기울기 계산 예시"
   ]
  },
  {
   "cell_type": "code",
   "execution_count": 5,
   "id": "7292fd9b",
   "metadata": {},
   "outputs": [
    {
     "name": "stdout",
     "output_type": "stream",
     "text": [
      "[6. 8.]\n",
      "[0. 4.]\n",
      "[6. 0.]\n"
     ]
    }
   ],
   "source": [
    "print(numerical_gradient(function_2, np.array([3.0, 4.0])))  # [6. 8.]\n",
    "print(numerical_gradient(function_2, np.array([0.0, 2.0])))  # [0. 4.]\n",
    "print(numerical_gradient(function_2, np.array([3.0, 0.0])))  # [6. 0.]"
   ]
  },
  {
   "cell_type": "markdown",
   "id": "59a49ca0",
   "metadata": {},
   "source": [
    "각각의 좌표에 대해 $\\frac{\\partial f}{\\partial x_0},\\quad \\frac{\\partial f}{\\partial x_1}$ 값을 구할 수 있다."
   ]
  },
  {
   "cell_type": "markdown",
   "id": "3f39b07e",
   "metadata": {},
   "source": [
    "2. 경사하강법 (Gradient Descent)\n",
    "    - 기울기를 사용하여 함수를 최솟값 방향으로 조금씩 이동시키는 방법이다.\n",
    "\n"
   ]
  },
  {
   "cell_type": "markdown",
   "id": "8fc528d4",
   "metadata": {},
   "source": [
    "- 2.1 경사하강법 알고리즘\n",
    "    - init_x : 초기값\n",
    "    - lr (learning rate) : 학습률 (한 번 이동하는 거리)\n",
    "    - step_num : 반복 횟수"
   ]
  },
  {
   "cell_type": "code",
   "execution_count": 7,
   "id": "7569b1df",
   "metadata": {},
   "outputs": [],
   "source": [
    "def gradient_descent(f, init_x, lr=0.01, step_num=100):\n",
    "    x = init_x\n",
    "    x_history = []\n",
    "\n",
    "    for i in range(step_num):\n",
    "        x_history.append(x.copy())\n",
    "        grad = numerical_gradient(f, x)\n",
    "        x -= lr * grad\n",
    "\n",
    "    return x, np.array(x_history)\n"
   ]
  },
  {
   "cell_type": "markdown",
   "id": "cc57659e",
   "metadata": {},
   "source": [
    "- 2.2 경사하강법으로 최솟값 찾기"
   ]
  },
  {
   "cell_type": "code",
   "execution_count": 8,
   "id": "cab65011",
   "metadata": {},
   "outputs": [
    {
     "name": "stdout",
     "output_type": "stream",
     "text": [
      "[-6.11110793e-10  8.14814391e-10]\n"
     ]
    }
   ],
   "source": [
    "# 초기값\n",
    "init_x = np.array([-3.0, 4.0])\n",
    "\n",
    "# 적절한 학습률\n",
    "x, x_history = gradient_descent(function_2, init_x, lr=0.1)\n",
    "print(x)  # [ 약 0, 약 0 ]\n"
   ]
  },
  {
   "cell_type": "markdown",
   "id": "2d1e8ff0",
   "metadata": {},
   "source": [
    "    - 결과: 거의 (0, 0) 근처로 수렴한다. (최솟값)\n",
    "\n"
   ]
  },
  {
   "cell_type": "markdown",
   "id": "d9a60633",
   "metadata": {},
   "source": [
    "3. 학습률(learning rate)에 따른 차이\n"
   ]
  },
  {
   "cell_type": "markdown",
   "id": "1b50324b",
   "metadata": {},
   "source": [
    "- 3.1 학습률이 너무 큰 경우"
   ]
  },
  {
   "cell_type": "code",
   "execution_count": 9,
   "id": "2c0642af",
   "metadata": {},
   "outputs": [
    {
     "name": "stdout",
     "output_type": "stream",
     "text": [
      "[-2.58983747e+13 -1.29524862e+12]\n"
     ]
    }
   ],
   "source": [
    "init_x = np.array([-3.0, 4.0])\n",
    "x, _ = gradient_descent(function_2, init_x, lr=10.0)\n",
    "print(x)  # 값이 터져서 발산함\n"
   ]
  },
  {
   "cell_type": "markdown",
   "id": "d618930c",
   "metadata": {},
   "source": [
    "    - 학습률이 너무 작으면 거의 움직이지 않고 학습이 매우 느려진다."
   ]
  },
  {
   "cell_type": "markdown",
   "id": "5be363af",
   "metadata": {},
   "source": [
    "4. 경로 시각화"
   ]
  },
  {
   "cell_type": "code",
   "execution_count": null,
   "id": "8250a94d",
   "metadata": {},
   "outputs": [
    {
     "data": {
      "image/png": "[encoded data removed]",
      "text/plain": [
       "<Figure size 640x480 with 1 Axes>"
      ]
     },
     "metadata": {},
     "output_type": "display_data"
    }
   ],
   "source": [
    "init_x = np.array([-3.0, 4.0])\n",
    "x, x_history = gradient_descent(function_2, init_x, lr=0.1, step_num=20)\n",
    "\n",
    "# x축 y축 기준선\n",
    "plt.plot([-5, 5], [0, 0], '--b')  # x축\n",
    "plt.plot([0, 0], [-5, 5], '--b')  # y축\n",
    "\n",
    "# 이동 경로\n",
    "plt.plot(x_history[:, 0], x_history[:, 1], 'o')\n",
    "\n",
    "plt.xlim(-3.5, 3.5)\n",
    "plt.ylim(-4.5, 4.5)\n",
    "plt.xlabel(\"X0\")\n",
    "plt.ylabel(\"X1\")\n",
    "plt.title(\"Gradient Descent Path\")\n",
    "plt.show()\n"
   ]
  },
  {
   "cell_type": "markdown",
   "id": "11fa2552",
   "metadata": {},
   "source": [
    "    - 점들이 (0,0) 방향으로 모여가면서 최솟값을 찾아가는 모습을 볼 수 있다.\n",
    "\n"
   ]
  },
  {
   "cell_type": "code",
   "execution_count": null,
   "id": "8dbae1ea",
   "metadata": {},
   "outputs": [],
   "source": []
  }
 ],
 "metadata": {
  "kernelspec": {
   "display_name": "myenv",
   "language": "python",
   "name": "python3"
  },
  "language_info": {
   "codemirror_mode": {
    "name": "ipython",
    "version": 3
   },
   "file_extension": ".py",
   "mimetype": "text/x-python",
   "name": "python",
   "nbconvert_exporter": "python",
   "pygments_lexer": "ipython3",
   "version": "3.11.0"
  }
 },
 "nbformat": 4,
 "nbformat_minor": 5
}
