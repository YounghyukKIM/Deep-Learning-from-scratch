{
 "cells": [
  {
   "cell_type": "markdown",
   "id": "4271b6b4",
   "metadata": {},
   "source": [
    "라이브러리"
   ]
  },
  {
   "cell_type": "code",
   "execution_count": 2,
   "id": "76847f47",
   "metadata": {},
   "outputs": [],
   "source": [
    "import numpy as np"
   ]
  },
  {
   "cell_type": "markdown",
   "id": "5ef0db77",
   "metadata": {},
   "source": [
    "1. 다차원 배열 (Numpy)\n",
    "    - Numpy는 고차원 배열(벡터, 행렬, 텐서 등)을 쉽게 다룰 수 있도록 해준다."
   ]
  },
  {
   "cell_type": "markdown",
   "id": "549f8c4d",
   "metadata": {},
   "source": [
    "-  1차원 배열"
   ]
  },
  {
   "cell_type": "code",
   "execution_count": null,
   "id": "4d6f4398",
   "metadata": {},
   "outputs": [
    {
     "name": "stdout",
     "output_type": "stream",
     "text": [
      "[1 2 3 4]\n",
      "1\n",
      "(4,)\n"
     ]
    }
   ],
   "source": [
    "A = np.array([1, 2, 3, 4])\n",
    "\n",
    "print(A)          # [1 2 3 4]\n",
    "print(np.ndim(A)) # 1 (차원 수)\n",
    "print(A.shape)    # (4,) (형상: 1차원, 길이 4)\n"
   ]
  },
  {
   "cell_type": "markdown",
   "id": "942acd5f",
   "metadata": {},
   "source": [
    "    - ndim : 배열의 차원 수\n",
    "    - shape : 배열의 형태"
   ]
  },
  {
   "cell_type": "markdown",
   "id": "bdaa2558",
   "metadata": {},
   "source": [
    "- 2차원 배열"
   ]
  },
  {
   "cell_type": "code",
   "execution_count": 3,
   "id": "00ca21dd",
   "metadata": {},
   "outputs": [
    {
     "name": "stdout",
     "output_type": "stream",
     "text": [
      "[[1 2]\n",
      " [3 4]\n",
      " [5 6]]\n",
      "2\n",
      "(3, 2)\n"
     ]
    }
   ],
   "source": [
    "B = np.array([[1, 2], [3, 4], [5, 6]])\n",
    "\n",
    "print(B)\n",
    "# [[1 2]\n",
    "#  [3 4]\n",
    "#  [5 6]]\n",
    "\n",
    "print(np.ndim(B))  # 2 (2차원 배열)\n",
    "print(B.shape)     # (3, 2) (3행 2열)\n"
   ]
  },
  {
   "cell_type": "markdown",
   "id": "9ed0182c",
   "metadata": {},
   "source": [
    "    - 2차원 배열은 흔히 행렬(matrix) 이라고 부른다.\n",
    "\n"
   ]
  },
  {
   "cell_type": "markdown",
   "id": "29fee190",
   "metadata": {},
   "source": [
    "2. 행렬의 내적 (dot product)\n",
    "    - 행렬의 내적은 두 배열 간의 곱을 의미한다.(스칼라 곱, 행렬 곱과도 부른다.)"
   ]
  },
  {
   "cell_type": "markdown",
   "id": "90e94214",
   "metadata": {},
   "source": [
    "- 기본 행렬 곱"
   ]
  },
  {
   "cell_type": "code",
   "execution_count": 5,
   "id": "381f7820",
   "metadata": {},
   "outputs": [
    {
     "name": "stdout",
     "output_type": "stream",
     "text": [
      "[[19 22]\n",
      " [43 50]]\n"
     ]
    }
   ],
   "source": [
    "A = np.array([[1, 2], [3, 4]])\n",
    "B = np.array([[5, 6], [7, 8]])\n",
    "\n",
    "print(np.dot(A, B))"
   ]
  },
  {
   "cell_type": "markdown",
   "id": "ad303b3d",
   "metadata": {},
   "source": [
    "    - 계산 과정\n",
    "        - 첫 번째 행×첫 번째 열=1×5+2×7=19\n",
    "        - 첫 번째 행×두 번째 열=1×6+2×8=22"
   ]
  },
  {
   "cell_type": "markdown",
   "id": "7a30c67c",
   "metadata": {},
   "source": [
    "- (2,3) × (3,2) 행렬 곱"
   ]
  },
  {
   "cell_type": "code",
   "execution_count": 6,
   "id": "802974a3",
   "metadata": {},
   "outputs": [
    {
     "name": "stdout",
     "output_type": "stream",
     "text": [
      "[[22 28]\n",
      " [49 64]]\n"
     ]
    }
   ],
   "source": [
    "A = np.array([[1, 2, 3], [4, 5, 6]])  # (2, 3)\n",
    "B = np.array([[1, 2], [3, 4], [5, 6]])  # (3, 2)\n",
    "\n",
    "print(np.dot(A, B))\n"
   ]
  },
  {
   "cell_type": "markdown",
   "id": "63d40cf1",
   "metadata": {},
   "source": [
    "    - (2,3) 과 (3,2) 을 곱하면 결과는 (2,2) 행렬이 된다.\n",
    "    - 앞쪽 행렬의 열 수와 뒤쪽 행렬의 행 수가 일치해야 곱할 수 있다."
   ]
  },
  {
   "cell_type": "markdown",
   "id": "bc0f0fae",
   "metadata": {},
   "source": [
    "- 1차원 벡터와 2차원 행렬 곱"
   ]
  },
  {
   "cell_type": "code",
   "execution_count": 7,
   "id": "3cf10e64",
   "metadata": {},
   "outputs": [
    {
     "name": "stdout",
     "output_type": "stream",
     "text": [
      "[ 5 11 17]\n"
     ]
    }
   ],
   "source": [
    "X = np.array([1, 2])  # (2,)\n",
    "W = np.array([[1, 3, 5], [2, 4, 6]])  # (2, 3)\n",
    "\n",
    "Y = np.dot(X, W)\n",
    "\n",
    "print(Y)"
   ]
  },
  {
   "cell_type": "markdown",
   "id": "340c12c9",
   "metadata": {},
   "source": [
    "    - 계산과정\n",
    "- $Y_0=1×1+2×2=5$\n",
    "- $Y_1=1×3+2×4=11$\n",
    "- $Y_2=1×5+2×6=17$"
   ]
  },
  {
   "cell_type": "code",
   "execution_count": null,
   "id": "d5481288",
   "metadata": {},
   "outputs": [],
   "source": []
  }
 ],
 "metadata": {
  "kernelspec": {
   "display_name": "myenv",
   "language": "python",
   "name": "python3"
  },
  "language_info": {
   "codemirror_mode": {
    "name": "ipython",
    "version": 3
   },
   "file_extension": ".py",
   "mimetype": "text/x-python",
   "name": "python",
   "nbconvert_exporter": "python",
   "pygments_lexer": "ipython3",
   "version": "3.11.0"
  }
 },
 "nbformat": 4,
 "nbformat_minor": 5
}
