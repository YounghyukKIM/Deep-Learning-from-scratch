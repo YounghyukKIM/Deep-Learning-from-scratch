{
 "cells": [
  {
   "cell_type": "markdown",
   "id": "7ff8502e",
   "metadata": {},
   "source": [
    "라이브러리"
   ]
  },
  {
   "cell_type": "code",
   "execution_count": 2,
   "id": "e927b45c",
   "metadata": {},
   "outputs": [],
   "source": [
    "import numpy as np"
   ]
  },
  {
   "cell_type": "markdown",
   "id": "edc890f0",
   "metadata": {},
   "source": [
    "1. 기계학습 문제 구분\n",
    "    - 분류 (Classification) | 데이터가 어떤 클래스에 속하는지를 예측\n",
    "    - 회귀 (Regression) | 연속적인 수치를 예측"
   ]
  },
  {
   "cell_type": "markdown",
   "id": "6d0affb6",
   "metadata": {},
   "source": [
    "2. 항등 함수와 소프트맥스 함수 구현\n",
    "    - 소프트맥스 함수 수식 : $y_k = \\frac{e^{a_k}}{\\sum_{i=1}^{n} e^{a_i}}$\n",
    "        - 입력 벡터 a를 받아, 출력이 0과 1 사이의 값으로 정규화된다.\n",
    "        - 출력 벡터의 총합은 항상 1이 된다 (확률처럼 해석 가능)."
   ]
  },
  {
   "cell_type": "markdown",
   "id": "f6c21f37",
   "metadata": {},
   "source": [
    "- 2.1 소프트맥스 함수 코드"
   ]
  },
  {
   "cell_type": "code",
   "execution_count": null,
   "id": "a8e8db3e",
   "metadata": {},
   "outputs": [],
   "source": [
    "def softmax(a):\n",
    "    c = np.max(a)  # 오버플로 방지용 상수\n",
    "    exp_a = np.exp(a - c)\n",
    "    sum_exp_a = np.sum(exp_a)\n",
    "    y = exp_a / sum_exp_a\n",
    "    return y\n"
   ]
  },
  {
   "cell_type": "markdown",
   "id": "5046f8ea",
   "metadata": {},
   "source": [
    "3. 소프트맥스 함수 구현 시 주의점\n",
    "    - 소프트맥스는 지수 함수(exp)를 사용하기 때문에, 입력값이 커지면 오버플로(overflow) 문제가 발생할 수 있다."
   ]
  },
  {
   "cell_type": "markdown",
   "id": "3a355f91",
   "metadata": {},
   "source": [
    "- 3.1 오버플로가 발생하는 경우"
   ]
  },
  {
   "cell_type": "code",
   "execution_count": null,
   "id": "d843f085",
   "metadata": {},
   "outputs": [
    {
     "name": "stdout",
     "output_type": "stream",
     "text": [
      "[9.99954600e-01 4.53978686e-05 2.06106005e-09]\n"
     ]
    }
   ],
   "source": [
    "print(softmax(np.array([1010, 1000, 990])))"
   ]
  },
  {
   "cell_type": "markdown",
   "id": "cec216bc",
   "metadata": {},
   "source": [
    "    - 오버플로 방지를 적용하지 않으면 nan이 출력될 수 있다."
   ]
  },
  {
   "cell_type": "markdown",
   "id": "fe5add32",
   "metadata": {},
   "source": [
    "- 3.2 오버플로 방지 기법\n",
    "    - 입력값 $a$에서 최댓값을 빼준다.\n",
    "    - $𝑒^{𝑎𝑖−𝑐}$ 형태로 계산하면, 상대적 차이는 유지되면서 값의 크기만 안정화된다."
   ]
  },
  {
   "cell_type": "markdown",
   "id": "37ae588f",
   "metadata": {},
   "source": [
    "4. 소프트맥스 함수의 특징"
   ]
  },
  {
   "cell_type": "markdown",
   "id": "32b596e6",
   "metadata": {},
   "source": [
    "- 4.1 소프트맥스 결과 확인"
   ]
  },
  {
   "cell_type": "code",
   "execution_count": 4,
   "id": "be018ad2",
   "metadata": {},
   "outputs": [
    {
     "name": "stdout",
     "output_type": "stream",
     "text": [
      "[0.01821127 0.24519181 0.73659691]\n",
      "1.0\n"
     ]
    }
   ],
   "source": [
    "a = np.array([0.3, 2.9, 4.0])\n",
    "y = softmax(a)\n",
    "\n",
    "print(y)          # [0.01821127 0.24519181 0.73659691]\n",
    "print(np.sum(y))  # 1.0\n"
   ]
  },
  {
   "cell_type": "markdown",
   "id": "44ba14e6",
   "metadata": {},
   "source": [
    "- 4.2 특징 정리\n",
    "    - 출력 범위\t| (0, 1) 사이\n",
    "    - 출력 합 | 항상 1\n",
    "    - 확률 해석 | 각 출력값을 확률처럼 해석 가능\n",
    "    - 순서 보존 | 입력값의 대소 관계는 유지된다"
   ]
  }
 ],
 "metadata": {
  "kernelspec": {
   "display_name": "myenv",
   "language": "python",
   "name": "python3"
  },
  "language_info": {
   "codemirror_mode": {
    "name": "ipython",
    "version": 3
   },
   "file_extension": ".py",
   "mimetype": "text/x-python",
   "name": "python",
   "nbconvert_exporter": "python",
   "pygments_lexer": "ipython3",
   "version": "3.11.0"
  }
 },
 "nbformat": 4,
 "nbformat_minor": 5
}
