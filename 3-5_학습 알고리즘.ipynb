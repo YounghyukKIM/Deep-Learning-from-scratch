{
 "cells": [
  {
   "cell_type": "markdown",
   "id": "e024803a",
   "metadata": {},
   "source": [
    "라이브러리"
   ]
  },
  {
   "cell_type": "code",
   "execution_count": 1,
   "id": "a28cb741",
   "metadata": {},
   "outputs": [],
   "source": [
    "import numpy as np"
   ]
  },
  {
   "cell_type": "markdown",
   "id": "49123620",
   "metadata": {},
   "source": [
    "1. 신경망 학습 흐름 요약\n",
    "    - 1단계\t: 미니배치 - 훈련 데이터 일부를 무작위로 선택\n",
    "    - 2단계\t: 기울기 계산 - 미니배치의 손실 함수에 대한 가중치, 편향 기울기 계산\n",
    "    - 3단계\t: 매개변수 갱신 - 기울기 방향으로 가중치, 편향을 갱신\n",
    "    - 4단계 : 반복 - 1~3단계를 반복 수행\n",
    "        - 전체 데이터를 다 쓰지 않고 일부만 사용하는 방식이라서 확률적 경사 하강법 (SGD, Stochastic Gradient Descent) 이라고 부른다."
   ]
  },
  {
   "cell_type": "code",
   "execution_count": 5,
   "id": "39040162",
   "metadata": {},
   "outputs": [],
   "source": [
    "def sigmoid(x):\n",
    "    return 1 / (1 + np.exp(-x))\n",
    "\n",
    "def softmax(a):\n",
    "    c = np.max(a)\n",
    "    exp_a = np.exp(a - c)\n",
    "    sum_exp_a = np.sum(exp_a)\n",
    "    y = exp_a / sum_exp_a\n",
    "    return y\n",
    "\n",
    "def cross_entropy_error(y, t):\n",
    "    delta = 1e-7\n",
    "    return -np.sum(t * np.log(y + delta))\n",
    "\n",
    "def numerical_gradient(f, x):\n",
    "    h = 1e-4  # 작은 값\n",
    "    grad = np.zeros_like(x)  # x와 같은 형태의 0 배열\n",
    "\n",
    "    it = np.nditer(x, flags=['multi_index'], op_flags=['readwrite'])\n",
    "    while not it.finished:\n",
    "        idx = it.multi_index\n",
    "        tmp_val = x[idx]\n",
    "\n",
    "        # f(x+h) 계산\n",
    "        x[idx] = float(tmp_val) + h\n",
    "        fxh1 = f(x)\n",
    "\n",
    "        # f(x-h) 계산\n",
    "        x[idx] = tmp_val - h\n",
    "        fxh2 = f(x)\n",
    "\n",
    "        grad[idx] = (fxh1 - fxh2) / (2*h)\n",
    "\n",
    "        x[idx] = tmp_val  # 값 복원\n",
    "        it.iternext()\n",
    "\n",
    "    return grad\n"
   ]
  },
  {
   "cell_type": "markdown",
   "id": "ccaba426",
   "metadata": {},
   "source": [
    "2. TwoLayerNet 클래스"
   ]
  },
  {
   "cell_type": "code",
   "execution_count": 6,
   "id": "4df8b13e",
   "metadata": {},
   "outputs": [],
   "source": [
    "class TwoLayerNet:\n",
    "    def __init__(self, input_size, hidden_size, output_size, weight_init_std=0.01):\n",
    "        self.params = {}\n",
    "        self.params['W1'] = weight_init_std * np.random.randn(input_size, hidden_size)\n",
    "        self.params['b1'] = np.zeros(hidden_size)\n",
    "        self.params['W2'] = weight_init_std * np.random.randn(hidden_size, output_size)\n",
    "        self.params['b2'] = np.zeros(output_size)\n",
    "\n",
    "    def predict(self, x):\n",
    "        W1, W2 = self.params['W1'], self.params['W2']\n",
    "        b1, b2 = self.params['b1'], self.params['b2']\n",
    "\n",
    "        a1 = np.dot(x, W1) + b1\n",
    "        z1 = sigmoid(a1)\n",
    "        a2 = np.dot(z1, W2) + b2\n",
    "        y = softmax(a2)\n",
    "\n",
    "        return y\n",
    "\n",
    "    def loss(self, x, t):\n",
    "        y = self.predict(x)\n",
    "        return cross_entropy_error(y, t)\n",
    "    \n",
    "    def accuracy(self, x, t):\n",
    "        y = self.predict(x)\n",
    "        y = np.argmax(y, axis=1)\n",
    "        t = np.argmax(t, axis=1)\n",
    "\n",
    "        accuracy = np.sum(y == t) / float(x.shape[0])\n",
    "        return accuracy\n",
    "\n",
    "    def numerical_gradient(self, x, t):\n",
    "        loss_W = lambda W: self.loss(x, t)\n",
    "\n",
    "        grads = {}\n",
    "        grads['W1'] = numerical_gradient(loss_W, self.params['W1'])\n",
    "        grads['b1'] = numerical_gradient(loss_W, self.params['b1'])\n",
    "        grads['W2'] = numerical_gradient(loss_W, self.params['W2'])\n",
    "        grads['b2'] = numerical_gradient(loss_W, self.params['b2'])\n",
    "\n",
    "        return grads\n"
   ]
  },
  {
   "cell_type": "code",
   "execution_count": 7,
   "id": "55926a1c",
   "metadata": {},
   "outputs": [
    {
     "name": "stdout",
     "output_type": "stream",
     "text": [
      "(784, 100)\n",
      "(100,)\n",
      "(100, 10)\n",
      "(10,)\n",
      "(784, 100)\n",
      "(100,)\n",
      "(100, 10)\n",
      "(10,)\n"
     ]
    }
   ],
   "source": [
    "if __name__ == '__main__':\n",
    "    net = TwoLayerNet(input_size=784, hidden_size=100, output_size=10)\n",
    "\n",
    "    print(net.params['W1'].shape)  # (784, 100)\n",
    "    print(net.params['b1'].shape)  # (100,)\n",
    "    print(net.params['W2'].shape)  # (100, 10)\n",
    "    print(net.params['b2'].shape)  # (10,)\n",
    "\n",
    "    x = np.random.rand(100, 784)  # 더미 입력 데이터 (100장)\n",
    "    t = np.random.rand(100, 10)   # 더미 정답 레이블 (100장)\n",
    "\n",
    "    grads = net.numerical_gradient(x, t)\n",
    "\n",
    "    print(grads['W1'].shape)  # (784, 100)\n",
    "    print(grads['b1'].shape)  # (100,)\n",
    "    print(grads['W2'].shape)  # (100, 10)\n",
    "    print(grads['b2'].shape)  # (10,)\n"
   ]
  }
 ],
 "metadata": {
  "kernelspec": {
   "display_name": "myenv",
   "language": "python",
   "name": "python3"
  },
  "language_info": {
   "codemirror_mode": {
    "name": "ipython",
    "version": 3
   },
   "file_extension": ".py",
   "mimetype": "text/x-python",
   "name": "python",
   "nbconvert_exporter": "python",
   "pygments_lexer": "ipython3",
   "version": "3.11.0"
  }
 },
 "nbformat": 4,
 "nbformat_minor": 5
}
