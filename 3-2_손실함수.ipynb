{
 "cells": [
  {
   "cell_type": "markdown",
   "id": "1feb3060",
   "metadata": {},
   "source": [
    "라이브러리"
   ]
  },
  {
   "cell_type": "code",
   "execution_count": 1,
   "id": "96d5c5c3",
   "metadata": {},
   "outputs": [],
   "source": [
    "import numpy as np"
   ]
  },
  {
   "cell_type": "markdown",
   "id": "5319aadf",
   "metadata": {},
   "source": [
    "1. 손실 함수란?\n",
    "    - 손실 함수(Loss Function)는 신경망 성능의 '나쁨'을 나타내는 지표이다.\n",
    "        - 손실 값이 작을수록 신경망의 성능이 좋다.\n",
    "        - 주로 사용하는 손실 함수\n",
    "            - 평균 제곱 오차 (Mean Squared Error, MSE)\n",
    "            - 교차 엔트로피 오차 (Cross Entropy Error)"
   ]
  },
  {
   "cell_type": "markdown",
   "id": "e6c48c42",
   "metadata": {},
   "source": [
    "2. 평균 제곱 오차 (MSE)"
   ]
  },
  {
   "cell_type": "markdown",
   "id": "2309345f",
   "metadata": {},
   "source": [
    "- 2.1 공식\n",
    "    - $E = \\frac{1}{2} \\sum_k (y_k - t_k)^2$\n",
    "        - $y_k$ : 신경망의 출력값\n",
    "        - $t_k$ : 정답 레이블값\n",
    "        - $k$ : 데이터의 차원 수\n"
   ]
  },
  {
   "cell_type": "markdown",
   "id": "fc11eaff",
   "metadata": {},
   "source": [
    "- 2.2 코드 구현"
   ]
  },
  {
   "cell_type": "code",
   "execution_count": 2,
   "id": "761c3dc1",
   "metadata": {},
   "outputs": [],
   "source": [
    "def mean_squared_error(y, t):\n",
    "    return 0.5 * np.sum((y - t) ** 2)"
   ]
  },
  {
   "cell_type": "markdown",
   "id": "644b54e8",
   "metadata": {},
   "source": [
    "- 2.3 예시"
   ]
  },
  {
   "cell_type": "code",
   "execution_count": 3,
   "id": "3ee86bec",
   "metadata": {},
   "outputs": [
    {
     "name": "stdout",
     "output_type": "stream",
     "text": [
      "0.09750000000000003\n",
      "0.5975\n"
     ]
    }
   ],
   "source": [
    "# 정답은 '2'\n",
    "t = [0, 0, 1, 0, 0, 0, 0, 0, 0, 0]\n",
    "\n",
    "# 예측1: '2'를 가장 높게 추정 (0.6)\n",
    "y = [0.1, 0.05, 0.6, 0.0, 0.05, 0.1, 0.0, 0.1, 0.0, 0.0]\n",
    "mse = mean_squared_error(np.array(y), np.array(t))\n",
    "print(mse)  # 0.0975\n",
    "\n",
    "# 예측2: '7'을 가장 높게 추정 (0.6)\n",
    "y = [0.1, 0.05, 0.1, 0.0, 0.05, 0.1, 0.0, 0.6, 0.0, 0.0]\n",
    "mse = mean_squared_error(np.array(y), np.array(t))\n",
    "print(mse)  # 0.5975\n"
   ]
  },
  {
   "cell_type": "markdown",
   "id": "605f593b",
   "metadata": {},
   "source": [
    "3. 교차 엔트로피 오차 (Cross Entropy Error)"
   ]
  },
  {
   "cell_type": "markdown",
   "id": "26e94255",
   "metadata": {},
   "source": [
    "- 3.1 공식\n",
    "    - $E = -\\sum_k t_k \\log(y_k)$\n",
    "        - $y_k$ : 신경망 출력 확률값 (softmax 출력)\n",
    "        - $t_k$ : 정답 레이블 (one-hot 인코딩)\n",
    "        - $log$ : 자연로그\n",
    "            - 실질적으로는 정답 클래스에 해당하는 확률의 로그를 취하는 셈이다."
   ]
  },
  {
   "cell_type": "markdown",
   "id": "11940f15",
   "metadata": {},
   "source": [
    "- 3.2 코드 구현\n",
    "    - $delta = 1e-7$을 추가하여 log(0) 발생을 방지한다.\n",
    "    - $t$는 one-hot 형태라고 가정하고 계산한다."
   ]
  },
  {
   "cell_type": "code",
   "execution_count": null,
   "id": "ca73c7a5",
   "metadata": {},
   "outputs": [],
   "source": [
    "def cross_entropy_error(y, t):\n",
    "    delta = 1e-7  # log(0) 방지용 작은 값\n",
    "    return -np.sum(t * np.log(y + delta))"
   ]
  },
  {
   "cell_type": "markdown",
   "id": "eb0bba4b",
   "metadata": {},
   "source": [
    "- 3.3 예시"
   ]
  },
  {
   "cell_type": "code",
   "execution_count": 5,
   "id": "57188a7e",
   "metadata": {},
   "outputs": [
    {
     "name": "stdout",
     "output_type": "stream",
     "text": [
      "0.510825457099338\n",
      "2.302584092994546\n"
     ]
    }
   ],
   "source": [
    "# 정답은 '2'\n",
    "t = [0, 0, 1, 0, 0, 0, 0, 0, 0, 0]\n",
    "\n",
    "# 예측1: '2'를 가장 높게 추정\n",
    "y = [0.1, 0.05, 0.6, 0.0, 0.05, 0.1, 0.0, 0.1, 0.0, 0.0]\n",
    "cee = cross_entropy_error(np.array(y), np.array(t))\n",
    "print(cee)  # 0.510825457099\n",
    "\n",
    "# 예측2: '7'을 가장 높게 추정\n",
    "y = [0.1, 0.05, 0.1, 0.0, 0.05, 0.1, 0.0, 0.6, 0.0, 0.0]\n",
    "cee = cross_entropy_error(np.array(y), np.array(t))\n",
    "print(cee)  # 2.30258409299\n"
   ]
  },
  {
   "cell_type": "code",
   "execution_count": null,
   "id": "55d151fc",
   "metadata": {},
   "outputs": [],
   "source": []
  }
 ],
 "metadata": {
  "kernelspec": {
   "display_name": "myenv",
   "language": "python",
   "name": "python3"
  },
  "language_info": {
   "codemirror_mode": {
    "name": "ipython",
    "version": 3
   },
   "file_extension": ".py",
   "mimetype": "text/x-python",
   "name": "python",
   "nbconvert_exporter": "python",
   "pygments_lexer": "ipython3",
   "version": "3.11.0"
  }
 },
 "nbformat": 4,
 "nbformat_minor": 5
}
