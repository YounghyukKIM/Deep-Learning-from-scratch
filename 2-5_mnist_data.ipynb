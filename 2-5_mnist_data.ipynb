{
 "cells": [
  {
   "cell_type": "markdown",
   "id": "54098dcb",
   "metadata": {},
   "source": [
    "라이브러리"
   ]
  },
  {
   "cell_type": "code",
   "execution_count": null,
   "id": "27eccca8",
   "metadata": {},
   "outputs": [],
   "source": [
    "import numpy as np\n",
    "import pickle\n",
    "from tensorflow.keras.datasets import mnist"
   ]
  },
  {
   "cell_type": "markdown",
   "id": "2b0418e4",
   "metadata": {},
   "source": [
    "1. MNIST 데이터셋\n",
    "    - MNIST는 0부터 9까지 숫자 손글씨 이미지로 구성된 데이터셋이다.\n",
    "        - 입력 데이터 | 28×28 크기의 회색조 이미지 (1채널)\n",
    "        - 훈련 데이터 | 60,000장\n",
    "        - 시험 데이터 | 10,000장\n",
    "        - 레이블(Label) | 0~9 중 하나 (정답 숫자)"
   ]
  },
  {
   "cell_type": "markdown",
   "id": "c5fb07c7",
   "metadata": {},
   "source": [
    "2. MNIST 데이터 불러오기"
   ]
  },
  {
   "cell_type": "code",
   "execution_count": 3,
   "id": "558fa481",
   "metadata": {},
   "outputs": [
    {
     "name": "stdout",
     "output_type": "stream",
     "text": [
      "Downloading data from https://storage.googleapis.com/tensorflow/tf-keras-datasets/mnist.npz\n",
      "\u001b[1m11490434/11490434\u001b[0m \u001b[32m━━━━━━━━━━━━━━━━━━━━\u001b[0m\u001b[37m\u001b[0m \u001b[1m1s\u001b[0m 0us/step\n",
      "(60000, 28, 28)\n",
      "(60000,)\n",
      "(10000, 28, 28)\n",
      "(10000,)\n"
     ]
    }
   ],
   "source": [
    "from tensorflow.keras.datasets import mnist\n",
    "\n",
    "# 데이터 다운로드 및 로드\n",
    "(x_train, t_train), (x_test, t_test) = mnist.load_data()\n",
    "\n",
    "# 데이터 형태 출력\n",
    "print(x_train.shape)  # (60000, 28, 28)\n",
    "print(t_train.shape)  # (60000,)\n",
    "print(x_test.shape)   # (10000, 28, 28)\n",
    "print(t_test.shape)   # (10000,)\n"
   ]
  },
  {
   "cell_type": "markdown",
   "id": "6e1167a3",
   "metadata": {},
   "source": [
    "    - 데이터 전처리 옵션\n",
    "        - flatten=True : 이미지를 1차원 배열(784차원)로 변환\n",
    "        - normalize=True : 픽셀값을 0.0~1.0 범위로 정규화\n",
    "        - one_hot_label=True : 레이블을 원-핫 인코딩 형식으로 변환"
   ]
  },
  {
   "cell_type": "markdown",
   "id": "7fd3608f",
   "metadata": {},
   "source": [
    "3. 신경망 구조\n",
    "    - 입력층: 784개 (28×28=784)\n",
    "    - 첫 번째 은닉층: 50개 뉴런\n",
    "    - 두 번째 은닉층: 100개 뉴런\n",
    "    - 출력층: 10개 뉴런 (0~9 분류)"
   ]
  },
  {
   "cell_type": "markdown",
   "id": "b2b4c6a7",
   "metadata": {},
   "source": [
    "4. 신경망 초기화 및 추론 함수"
   ]
  },
  {
   "cell_type": "markdown",
   "id": "9a94b5e5",
   "metadata": {},
   "source": [
    "- 4.1 데이터 가져오기"
   ]
  },
  {
   "cell_type": "code",
   "execution_count": 6,
   "id": "8b81ce14",
   "metadata": {},
   "outputs": [],
   "source": [
    "def get_data():\n",
    "    # 데이터 로드\n",
    "    (x_train, t_train), (x_test, t_test) = mnist.load_data()\n",
    "    # flatten (28x28 → 784)\n",
    "    x_test = x_test.reshape(x_test.shape[0], -1)\n",
    "    # normalize (0~255 → 0~1)\n",
    "    x_test = x_test.astype('float32') / 255.0\n",
    "    return x_test, t_test"
   ]
  },
  {
   "cell_type": "markdown",
   "id": "68aab5de",
   "metadata": {},
   "source": [
    "- 4.2 학습된 네트워크 불러오기"
   ]
  },
  {
   "cell_type": "code",
   "execution_count": 7,
   "id": "db1de467",
   "metadata": {},
   "outputs": [],
   "source": [
    "def init_network():\n",
    "    with open(\"sample_weight.pkl\", 'rb') as f:\n",
    "        network = pickle.load(f)\n",
    "    return network"
   ]
  },
  {
   "cell_type": "markdown",
   "id": "cbf00a1a",
   "metadata": {},
   "source": [
    "    - sample_weight.pkl 파일에는 학습된 가중치(W)와 편향(b) 값이 저장되어 있다.\n",
    "    - 이 파일을 읽어와서 학습 없이 바로 추론(inference) 가능."
   ]
  },
  {
   "cell_type": "markdown",
   "id": "7c03d9e4",
   "metadata": {},
   "source": [
    "- 4.3 추론(Forward) 함수"
   ]
  },
  {
   "cell_type": "code",
   "execution_count": 16,
   "id": "feb0f047",
   "metadata": {},
   "outputs": [],
   "source": [
    "# 올바른 순서\n",
    "def sigmoid(x):\n",
    "    return 1 / (1 + np.exp(-x))\n",
    "\n",
    "def softmax(a):\n",
    "    c = np.max(a)  # 오버플로 방지용 상수\n",
    "    exp_a = np.exp(a - c)\n",
    "    sum_exp_a = np.sum(exp_a)\n",
    "    y = exp_a / sum_exp_a\n",
    "    return y\n",
    "\n",
    "def predict(network, x):\n",
    "    W1, W2, W3 = network['W1'], network['W2'], network['W3']\n",
    "    b1, b2, b3 = network['b1'], network['b2'], network['b3']\n",
    "\n",
    "    a1 = np.dot(x, W1) + b1\n",
    "    z1 = sigmoid(a1)\n",
    "\n",
    "    a2 = np.dot(z1, W2) + b2\n",
    "    z2 = sigmoid(a2)\n",
    "\n",
    "    a3 = np.dot(z2, W3) + b3\n",
    "    y = softmax(a3)\n",
    "\n",
    "    return y\n"
   ]
  },
  {
   "cell_type": "markdown",
   "id": "9b4ee244",
   "metadata": {},
   "source": [
    "    - 각 층마다 선형변환 → 활성화 함수(sigmoid) 적용\n",
    "    - 마지막 층은 softmax로 확률 변환"
   ]
  },
  {
   "cell_type": "markdown",
   "id": "9b6b7519",
   "metadata": {},
   "source": [
    "5. 정확도 측정"
   ]
  },
  {
   "cell_type": "markdown",
   "id": "e6e50373",
   "metadata": {},
   "source": [
    "- 5.1 기본 방식 (1개씩 처리)"
   ]
  },
  {
   "cell_type": "code",
   "execution_count": 17,
   "id": "d8cea41c",
   "metadata": {},
   "outputs": [
    {
     "name": "stdout",
     "output_type": "stream",
     "text": [
      "Accuracy: 0.9352\n"
     ]
    }
   ],
   "source": [
    "accuracy_cnt = 0\n",
    "\n",
    "x, t = get_data()\n",
    "network = init_network()\n",
    "\n",
    "for i in range(len(x)):\n",
    "    y = predict(network, x[i])\n",
    "    p = np.argmax(y)  # 확률이 가장 높은 클래스 선택\n",
    "    if p == t[i]:\n",
    "        accuracy_cnt += 1\n",
    "\n",
    "print(\"Accuracy:\", str(float(accuracy_cnt) / len(x)))"
   ]
  },
  {
   "cell_type": "markdown",
   "id": "c2ca6c6c",
   "metadata": {},
   "source": [
    "    - 1개씩 예측해서 맞춘 개수 세기\n",
    "    - Accuracy ≈ 0.9352 (약 93.5%)"
   ]
  },
  {
   "cell_type": "markdown",
   "id": "7cebb17a",
   "metadata": {},
   "source": [
    "- 5.2 배치 처리 (속도 향상)"
   ]
  },
  {
   "cell_type": "code",
   "execution_count": 18,
   "id": "e919c62c",
   "metadata": {},
   "outputs": [
    {
     "name": "stdout",
     "output_type": "stream",
     "text": [
      "Accuracy: 0.9352\n"
     ]
    }
   ],
   "source": [
    "batch_size = 100  # 배치 크기\n",
    "\n",
    "accuracy_cnt = 0\n",
    "\n",
    "for i in range(0, len(x), batch_size):\n",
    "    x_batch = x[i:i+batch_size]\n",
    "    y_batch = predict(network, x_batch)\n",
    "    p = np.argmax(y_batch, axis=1)\n",
    "    accuracy_cnt += np.sum(p == t[i:i+batch_size])\n",
    "\n",
    "print(\"Accuracy:\", str(float(accuracy_cnt) / len(x)))\n"
   ]
  },
  {
   "cell_type": "code",
   "execution_count": null,
   "id": "a201e590",
   "metadata": {},
   "outputs": [],
   "source": []
  }
 ],
 "metadata": {
  "kernelspec": {
   "display_name": "myenv",
   "language": "python",
   "name": "python3"
  },
  "language_info": {
   "codemirror_mode": {
    "name": "ipython",
    "version": 3
   },
   "file_extension": ".py",
   "mimetype": "text/x-python",
   "name": "python",
   "nbconvert_exporter": "python",
   "pygments_lexer": "ipython3",
   "version": "3.11.0"
  }
 },
 "nbformat": 4,
 "nbformat_minor": 5
}
